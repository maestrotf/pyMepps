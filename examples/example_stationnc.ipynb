{
 "cells": [
  {
   "cell_type": "markdown",
   "metadata": {},
   "source": [
    "# Load station data based on NetCDF files\n",
    "\n",
    "In this example we show how to load station data based on NetCDF files.\n",
    "The data is loaded with the pymepps package. Thanks to Ingo Lange we could use original data from the Wettermast for this example. In the following the data is loaded, plotted and saved as json file."
   ]
  },
  {
   "cell_type": "code",
   "execution_count": 8,
   "metadata": {
    "ExecuteTime": {
     "end_time": "2017-07-12T16:06:23.417086Z",
     "start_time": "2017-07-12T16:06:23.412894Z"
    }
   },
   "outputs": [],
   "source": [
    "import pymepps\n",
    "import matplotlib.pyplot as plt"
   ]
  },
  {
   "cell_type": "markdown",
   "metadata": {},
   "source": [
    "We could use the global pymepps open_station_dataset function to open the Wettermast data.\n",
    "We have to specify the data path and the data type."
   ]
  },
  {
   "cell_type": "code",
   "execution_count": 2,
   "metadata": {
    "ExecuteTime": {
     "end_time": "2017-07-12T15:47:44.772536Z",
     "start_time": "2017-07-12T15:47:44.702002Z"
    }
   },
   "outputs": [
    {
     "name": "stderr",
     "output_type": "stream",
     "text": [
      "100%|██████████| 1/1 [00:00<00:00, 25.52it/s]\n",
      "100%|██████████| 1/1 [00:00<00:00, 49.15it/s]\n"
     ]
    }
   ],
   "source": [
    "wm_ds = pymepps.open_station_dataset('../data/station/wettermast.nc', 'nc')"
   ]
  },
  {
   "cell_type": "code",
   "execution_count": 3,
   "metadata": {
    "ExecuteTime": {
     "end_time": "2017-07-12T15:47:46.567688Z",
     "start_time": "2017-07-12T15:47:46.562772Z"
    }
   },
   "outputs": [
    {
     "name": "stdout",
     "output_type": "stream",
     "text": [
      "TSDataset\n",
      "---------\n",
      "File handlers: 1\n",
      "Variables: ['TT002_M10', 'lat', 'lon', 'product', 'station_details', 'time_bnds', 'zsl']\n",
      "Lonlat: None\n"
     ]
    }
   ],
   "source": [
    "print(wm_ds)"
   ]
  },
  {
   "cell_type": "markdown",
   "metadata": {},
   "source": [
    "Now we could extract the temperature in 2 m height. For this we use the select method of the resulted dataset."
   ]
  },
  {
   "cell_type": "code",
   "execution_count": 4,
   "metadata": {
    "ExecuteTime": {
     "end_time": "2017-07-12T15:47:55.073771Z",
     "start_time": "2017-07-12T15:47:55.032072Z"
    },
    "scrolled": true
   },
   "outputs": [
    {
     "name": "stderr",
     "output_type": "stream",
     "text": [
      "100%|██████████| 1/1 [00:00<00:00, 36.04it/s]\n"
     ]
    }
   ],
   "source": [
    "t2m = wm_ds.select('TT002_M10')"
   ]
  },
  {
   "cell_type": "code",
   "execution_count": 5,
   "metadata": {
    "ExecuteTime": {
     "end_time": "2017-07-12T15:48:24.096516Z",
     "start_time": "2017-07-12T15:48:24.086213Z"
    }
   },
   "outputs": [
    {
     "name": "stdout",
     "output_type": "stream",
     "text": [
      "<class 'pandas.core.series.Series'>\n",
      "time\n",
      "2016-01-01 00:00:00    0.69\n",
      "2016-01-01 00:10:00    1.36\n",
      "2016-01-01 00:20:00    1.16\n",
      "2016-01-01 00:30:00    1.07\n",
      "2016-01-01 00:40:00    0.85\n",
      "2016-01-01 00:50:00    0.53\n",
      "2016-01-01 01:00:00    0.23\n",
      "2016-01-01 01:10:00    0.07\n",
      "2016-01-01 01:20:00    0.40\n",
      "2016-01-01 01:30:00    0.32\n",
      "2016-01-01 01:40:00    0.25\n",
      "2016-01-01 01:50:00    0.35\n",
      "2016-01-01 02:00:00    0.26\n",
      "2016-01-01 02:10:00    0.15\n",
      "2016-01-01 02:20:00    0.59\n",
      "2016-01-01 02:30:00    0.56\n",
      "2016-01-01 02:40:00    0.79\n",
      "2016-01-01 02:50:00    1.07\n",
      "2016-01-01 03:00:00    1.13\n",
      "2016-01-01 03:10:00    1.12\n",
      "2016-01-01 03:20:00    1.25\n",
      "2016-01-01 03:30:00    1.23\n",
      "2016-01-01 03:40:00    0.95\n",
      "2016-01-01 03:50:00    0.81\n",
      "2016-01-01 04:00:00    0.72\n",
      "2016-01-01 04:10:00    0.80\n",
      "2016-01-01 04:20:00    0.72\n",
      "2016-01-01 04:30:00    0.70\n",
      "2016-01-01 04:40:00    0.63\n",
      "2016-01-01 04:50:00    0.62\n",
      "                       ... \n",
      "2016-01-05 19:00:00   -5.34\n",
      "2016-01-05 19:10:00   -5.35\n",
      "2016-01-05 19:20:00   -5.31\n",
      "2016-01-05 19:30:00   -5.29\n",
      "2016-01-05 19:40:00   -5.28\n",
      "2016-01-05 19:50:00   -5.34\n",
      "2016-01-05 20:00:00   -5.38\n",
      "2016-01-05 20:10:00   -5.40\n",
      "2016-01-05 20:20:00   -5.41\n",
      "2016-01-05 20:30:00   -5.41\n",
      "2016-01-05 20:40:00   -5.39\n",
      "2016-01-05 20:50:00   -5.41\n",
      "2016-01-05 21:00:00   -5.40\n",
      "2016-01-05 21:10:00   -5.40\n",
      "2016-01-05 21:20:00   -5.40\n",
      "2016-01-05 21:30:00   -5.47\n",
      "2016-01-05 21:40:00   -5.53\n",
      "2016-01-05 21:50:00   -5.64\n",
      "2016-01-05 22:00:00   -5.68\n",
      "2016-01-05 22:10:00   -5.70\n",
      "2016-01-05 22:20:00   -5.75\n",
      "2016-01-05 22:30:00   -5.78\n",
      "2016-01-05 22:40:00   -5.76\n",
      "2016-01-05 22:50:00   -5.76\n",
      "2016-01-05 23:00:00   -5.77\n",
      "2016-01-05 23:10:00   -5.74\n",
      "2016-01-05 23:20:00   -5.74\n",
      "2016-01-05 23:30:00   -5.78\n",
      "2016-01-05 23:40:00   -5.84\n",
      "2016-01-05 23:50:00   -5.78\n",
      "Name: TT002_M10, Length: 720, dtype: float32\n"
     ]
    }
   ],
   "source": [
    "print(type(t2m))\n",
    "print(t2m)"
   ]
  },
  {
   "cell_type": "markdown",
   "metadata": {},
   "source": [
    "We could see that the resulting temperature is a normal pandas.Series. So it is possible to use all pandas methods, e.g. plotting of the Series."
   ]
  },
  {
   "cell_type": "code",
   "execution_count": 9,
   "metadata": {
    "ExecuteTime": {
     "end_time": "2017-07-12T16:06:28.769057Z",
     "start_time": "2017-07-12T16:06:28.578030Z"
    }
   },
   "outputs": [
    {
     "data": {
      "image/png": "[encoded data removed]",
      "text/plain": [
       "<matplotlib.figure.Figure at 0x7f0e3ff49710>"
      ]
     },
     "metadata": {},
     "output_type": "display_data"
    }
   ],
   "source": [
    "t2m.plot()\n",
    "plt.show()"
   ]
  },
  {
   "cell_type": "markdown",
   "metadata": {},
   "source": [
    "Pymepps uses an accessor to extend the pandas functionality. The accessor could be accessed with Series.pp. At the moment there is only a lonlat attribute, update, save and load method defined, but it is planned to expand the number of additional methods."
   ]
  },
  {
   "cell_type": "code",
   "execution_count": 11,
   "metadata": {
    "ExecuteTime": {
     "end_time": "2017-07-12T16:11:42.000815Z",
     "start_time": "2017-07-12T16:11:41.995665Z"
    }
   },
   "outputs": [
    {
     "name": "stdout",
     "output_type": "stream",
     "text": [
      "None\n"
     ]
    }
   ],
   "source": [
    "print(t2m.pp.lonlat)"
   ]
  },
  {
   "cell_type": "markdown",
   "metadata": {},
   "source": [
    "We could see that the logitude and latitude are None at the moment, because we haven't set the yet. we could either set them directly or set the coordintes in the open_station_dataset function with the lonlat argument."
   ]
  }
 ],
 "metadata": {
  "kernelspec": {
   "display_name": "Python [default]",
   "language": "python",
   "name": "python3"
  },
  "language_info": {
   "codemirror_mode": {
    "name": "ipython",
    "version": 3.0
   },
   "file_extension": ".py",
   "mimetype": "text/x-python",
   "name": "python",
   "nbconvert_exporter": "python",
   "pygments_lexer": "ipython3",
   "version": "3.6.1"
  }
 },
 "nbformat": 4,
 "nbformat_minor": 0
}