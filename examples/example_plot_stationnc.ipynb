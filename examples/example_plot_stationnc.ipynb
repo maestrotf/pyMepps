{
 "cells": [
  {
   "cell_type": "markdown",
   "metadata": {},
   "source": [
    "# Load station data based on NetCDF files\n",
    "\n",
    "In this example we show how to load station data based on NetCDF files.\n",
    "The data is loaded with the pymepps package. Thanks to Ingo Lange we could use original data from the Wettermast for this example. In the following the data is loaded, plotted and saved as json file."
   ]
  },
  {
   "cell_type": "code",
   "execution_count": 1,
   "metadata": {
    "ExecuteTime": {
     "end_time": "2017-07-13T08:00:14.996522Z",
     "start_time": "2017-07-13T08:00:14.057359Z"
    }
   },
   "outputs": [
    {
     "name": "stdout",
     "output_type": "stream",
     "text": [
      "For full support please install cdo see more at: \"https://code.mpimet.mpg.de/projects/cdo/wiki/Cdo#Documentation\"\n"
     ]
    }
   ],
   "source": [
    "import pymepps\n",
    "import matplotlib.pyplot as plt"
   ]
  },
  {
   "cell_type": "markdown",
   "metadata": {},
   "source": [
    "We could use the global pymepps open_station_dataset function to open the Wettermast data.\n",
    "We have to specify the data path and the data type."
   ]
  },
  {
   "cell_type": "code",
   "execution_count": 2,
   "metadata": {
    "ExecuteTime": {
     "end_time": "2017-07-13T08:00:15.560210Z",
     "start_time": "2017-07-13T08:00:15.500268Z"
    }
   },
   "outputs": [
    {
     "name": "stderr",
     "output_type": "stream",
     "text": [
      "100%|██████████| 1/1 [00:00<00:00, 33.09it/s]\n",
      "100%|██████████| 1/1 [00:00<00:00, 60.78it/s]\n"
     ]
    }
   ],
   "source": [
    "wm_ds = pymepps.open_station_dataset('../data/station/wettermast.nc', 'nc')"
   ]
  },
  {
   "cell_type": "code",
   "execution_count": 3,
   "metadata": {
    "ExecuteTime": {
     "end_time": "2017-07-13T08:00:16.545367Z",
     "start_time": "2017-07-13T08:00:16.540240Z"
    }
   },
   "outputs": [
    {
     "name": "stdout",
     "output_type": "stream",
     "text": [
      "TSDataset\n",
      "---------\n",
      "File handlers: 1\n",
      "Variables: ['TT002_M10', 'lat', 'lon', 'product', 'station_details', 'time_bnds', 'zsl']\n",
      "Lonlat: None\n"
     ]
    }
   ],
   "source": [
    "print(wm_ds)"
   ]
  },
  {
   "cell_type": "markdown",
   "metadata": {},
   "source": [
    "Now we could extract the temperature in 2 m height. For this we use the select method of the resulted dataset."
   ]
  },
  {
   "cell_type": "code",
   "execution_count": 4,
   "metadata": {
    "ExecuteTime": {
     "end_time": "2017-07-13T08:00:17.721586Z",
     "start_time": "2017-07-13T08:00:17.679312Z"
    },
    "scrolled": true
   },
   "outputs": [
    {
     "name": "stderr",
     "output_type": "stream",
     "text": [
      "100%|██████████| 1/1 [00:00<00:00, 36.08it/s]\n"
     ]
    }
   ],
   "source": [
    "t2m = wm_ds.select('TT002_M10')"
   ]
  },
  {
   "cell_type": "code",
   "execution_count": 7,
   "metadata": {
    "ExecuteTime": {
     "end_time": "2017-07-13T08:00:31.862519Z",
     "start_time": "2017-07-13T08:00:31.829829Z"
    }
   },
   "outputs": [
    {
     "name": "stdout",
     "output_type": "stream",
     "text": [
      "<class 'pandas.core.series.Series'>\n",
      "count    720.000000\n",
      "mean      -3.317834\n",
      "std        4.251115\n",
      "min       -8.500000\n",
      "25%       -6.690000\n",
      "50%       -5.595000\n",
      "75%        0.802500\n",
      "max        5.040000\n",
      "Name: TT002_M10, dtype: float64\n"
     ]
    }
   ],
   "source": [
    "print(type(t2m))\n",
    "print(t2m.describe())"
   ]
  },
  {
   "cell_type": "markdown",
   "metadata": {},
   "source": [
    "We could see that the resulting temperature is a normal pandas.Series. So it is possible to use all pandas methods, e.g. plotting of the Series."
   ]
  },
  {
   "cell_type": "code",
   "execution_count": 9,
   "metadata": {
    "ExecuteTime": {
     "end_time": "2017-07-13T08:01:22.028670Z",
     "start_time": "2017-07-13T08:01:21.780580Z"
    }
   },
   "outputs": [
    {
     "data": {
      "image/png": "[encoded data removed]",
      "text/plain": [
       "<matplotlib.figure.Figure at 0x7f0ac405d0f0>"
      ]
     },
     "metadata": {},
     "output_type": "display_data"
    }
   ],
   "source": [
    "t2m.plot()\n",
    "plt.xlabel('Date')\n",
    "plt.ylabel('Temperature in °C')\n",
    "plt.title('Temperature at the Wettermast Hamburg')\n",
    "plt.show()"
   ]
  },
  {
   "cell_type": "markdown",
   "metadata": {},
   "source": [
    "Pymepps uses an accessor to extend the pandas functionality. The accessor could be accessed with Series.pp. At the moment there is only a lonlat attribute, update, save and load method defined, but it is planned to expand the number of additional methods."
   ]
  },
  {
   "cell_type": "code",
   "execution_count": 10,
   "metadata": {
    "ExecuteTime": {
     "end_time": "2017-07-13T08:01:24.641568Z",
     "start_time": "2017-07-13T08:01:24.636803Z"
    }
   },
   "outputs": [
    {
     "name": "stdout",
     "output_type": "stream",
     "text": [
      "None\n"
     ]
    }
   ],
   "source": [
    "print(t2m.pp.lonlat)"
   ]
  },
  {
   "cell_type": "markdown",
   "metadata": {},
   "source": [
    "We could see that the logitude and latitude are None at the moment, because we haven't set the yet. We could either set them directly or set the coordintes in the open_station_dataset function with the lonlat argument."
   ]
  }
 ],
 "metadata": {
  "kernelspec": {
   "display_name": "Python [default]",
   "language": "python",
   "name": "python3"
  },
  "language_info": {
   "codemirror_mode": {
    "name": "ipython",
    "version": 3
   },
   "file_extension": ".py",
   "mimetype": "text/x-python",
   "name": "python",
   "nbconvert_exporter": "python",
   "pygments_lexer": "ipython3",
   "version": "3.6.1"
  }
 },
 "nbformat": 4,
 "nbformat_minor": 1
}
