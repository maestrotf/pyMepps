{
  "cells": [
    {
      "cell_type": "code",
      "execution_count": null,
      "metadata": {
        "collapsed": false
      },
      "outputs": [],
      "source": [
        "%matplotlib inline"
      ]
    },
    {
      "cell_type": "markdown",
      "metadata": {},
      "source": [
        "\nLoad a thredds dataset\n======================\n\nIn the following example we will load a thredds dataset from the\nnorwegian met.no thredds server.\n\n\n"
      ]
    },
    {
      "cell_type": "code",
      "execution_count": null,
      "metadata": {
        "collapsed": false
      },
      "outputs": [],
      "source": [
        "import numpy as np\nimport matplotlib.pyplot as plt\n\nimport pymepps"
      ]
    },
    {
      "cell_type": "markdown",
      "metadata": {},
      "source": [
        "The first step is to load the dataset. This will be performed with\npymepps.open\\_model\\_dataset. The NetCDF4 backend is also supporting\nopendap paths. So we could specify nc as data type.\n\n\n"
      ]
    },
    {
      "cell_type": "code",
      "execution_count": null,
      "metadata": {
        "collapsed": false
      },
      "outputs": [],
      "source": [
        "metno_path = 'http://thredds.met.no/thredds/dodsC/meps25files/' \\\n    'meps_det_pp_2_5km_latest.nc'\nmetno_ds = pymepps.open_model_dataset(metno_path, 'nc')"
      ]
    },
    {
      "cell_type": "markdown",
      "metadata": {},
      "source": [
        "The resulting dataset is a SpatialDataset. The dataset has several\nmethods to load a xr.DataArray from the path. It also possible to print\nthe content of the dataset. The content contains the dataset type, the\nnumber of file handlers within the dataset and all available data\nvariables.\n\n\n"
      ]
    },
    {
      "cell_type": "code",
      "execution_count": null,
      "metadata": {
        "collapsed": false
      },
      "outputs": [],
      "source": [
        "print(metno_ds)"
      ]
    },
    {
      "cell_type": "markdown",
      "metadata": {},
      "source": [
        "The next step is to select/extract a variable from the Dataset. We will\nselect the air temperature in 2 metre height and print the content of\nthe resulting data\n\n\n"
      ]
    },
    {
      "cell_type": "code",
      "execution_count": null,
      "metadata": {
        "collapsed": false
      },
      "outputs": [],
      "source": [
        "metno_t2m = metno_ds.select('air_temperature_2m')\nprint(metno_t2m)\nmetno_t2m.isel(validtime=0).plot()\nplt.show()"
      ]
    },
    {
      "cell_type": "markdown",
      "metadata": {},
      "source": [
        "We could see that the resulting data is a normal xarray.DataArray and\nall of the DataArray methods could be used. The coordinates of the\nDataArray are normalized. The DataArray is expanded with an accessor.\nAlso the coordinates are normalized. We could access the accessor with\nmetno\\_t2m.pp. The main methods of the accessor are allowing a grid\nhandling. So our next step is to explore the grid of the DataArray.\n\n\n"
      ]
    },
    {
      "cell_type": "code",
      "execution_count": null,
      "metadata": {
        "collapsed": false
      },
      "outputs": [],
      "source": [
        "print(metno_t2m.pp.grid)"
      ]
    },
    {
      "cell_type": "markdown",
      "metadata": {},
      "source": [
        "We could see that the grid is a grid with a defined projection. In our\nnext step we will slice out an area around Hamburg. We will see that a\nnew DataArray with a new grid is created.\n\n\n"
      ]
    },
    {
      "cell_type": "code",
      "execution_count": null,
      "metadata": {
        "collapsed": false
      },
      "outputs": [],
      "source": [
        "hh_bounds = [9, 54, 11, 53]\nt2m_hh = metno_t2m.pp.sellonlatbox(hh_bounds)\nprint(t2m_hh.pp.grid)\nprint(t2m_hh)"
      ]
    },
    {
      "cell_type": "markdown",
      "metadata": {},
      "source": [
        "We sliced a longitude and latitude box around the given grid. So we\nsliced the data in a longitude and latitude projection. Our original\ngrid was in another projection with unstructured lat lon coordinates. So\nit is not possible to create a structured grid based on this slice. So\nthe grid becomes an unstructured grid. In the next step we will show the\nremapping capabilities of the pymepps grid structure.\n\n\n"
      ]
    },
    {
      "cell_type": "markdown",
      "metadata": {},
      "source": [
        "If we slice the data we have seen that the structured grid could not\nmaintained. So in the next step we will create a structured LonLatGrid\nfrom scratch. After the grid building we will remap the raw DataArray\nbasen on the new grid.\n\nThe first step is to calculate the model resolution in degree.\n\n\n"
      ]
    },
    {
      "cell_type": "code",
      "execution_count": null,
      "metadata": {
        "collapsed": false
      },
      "outputs": [],
      "source": [
        "res = 2500   # model resolution in metre\nearth_radius = 6371000 # Earth radius in metre\nres_deg = np.round(res*360/(earth_radius*2*np.pi), 4)\n# rounded model resolution equivalent in degree if it where on the equator\nprint(res_deg)"
      ]
    },
    {
      "cell_type": "markdown",
      "metadata": {},
      "source": [
        "Our next step is to build the grid. The grid implementation is inspired\nby the climate data operators. So to build the grid we will use the same\nformat.\n\n\n"
      ]
    },
    {
      "cell_type": "code",
      "execution_count": null,
      "metadata": {
        "collapsed": false
      },
      "outputs": [],
      "source": [
        "grid_dict = dict(\n    gridtype='lonlat',\n    xsize=int((hh_bounds[2]-hh_bounds[0])/res_deg),\n    ysize=int((hh_bounds[1]-hh_bounds[3])/res_deg),\n    xfirst=hh_bounds[0],\n    xinc=res_deg,\n    yfirst=hh_bounds[3],\n    yinc=res_deg,\n)"
      ]
    },
    {
      "cell_type": "markdown",
      "metadata": {},
      "source": [
        "Now we use our grid dict together with the GridBuilder to build our\ngrid.\n\n\n"
      ]
    },
    {
      "cell_type": "code",
      "execution_count": null,
      "metadata": {
        "collapsed": false
      },
      "outputs": [],
      "source": [
        "builder = pymepps.GridBuilder(grid_dict)\nhh_grid = builder.build_grid()\nprint(hh_grid)"
      ]
    },
    {
      "cell_type": "markdown",
      "metadata": {},
      "source": [
        "Now we created the grid. The next step is a remapping of the raw\nDataArray to the new Grid. We will use th enearest neighbour approach to\nremap the data.\n\n\n"
      ]
    },
    {
      "cell_type": "code",
      "execution_count": null,
      "metadata": {
        "collapsed": false
      },
      "outputs": [],
      "source": [
        "t2m_hh_remapped = metno_t2m.pp.remapnn(hh_grid)\n\nprint(t2m_hh_remapped)"
      ]
    },
    {
      "cell_type": "markdown",
      "metadata": {},
      "source": [
        "To plot the data in a map, we have to slice the data. We will select the\nfirst validtime as plotting parameter.\n\n\n"
      ]
    },
    {
      "cell_type": "code",
      "execution_count": null,
      "metadata": {
        "collapsed": false
      },
      "outputs": [],
      "source": [
        "t2m_hh_remapped.isel(validtime=0).plot()\nplt.show()"
      ]
    },
    {
      "cell_type": "markdown",
      "metadata": {},
      "source": [
        "In the map around Hamburg we could see the north and baltic sea in the\ntop edges. But with the nearest enighbour approach we retain some of the\nsharp edges at the map. Our last step is a second remap plot, this time\nwith a bilinear approach.\n\n\n"
      ]
    },
    {
      "cell_type": "code",
      "execution_count": null,
      "metadata": {
        "collapsed": false
      },
      "outputs": [],
      "source": [
        "# sphinx_gallery_thumbnail_number = 3\nmetno_t2m.pp.remapbil(hh_grid).isel(validtime=0).plot()\nplt.show()"
      ]
    }
  ],
  "metadata": {
    "kernelspec": {
      "display_name": "Python 3",
      "language": "python",
      "name": "python3"
    },
    "language_info": {
      "codemirror_mode": {
        "name": "ipython",
        "version": 3
      },
      "file_extension": ".py",
      "mimetype": "text/x-python",
      "name": "python",
      "nbconvert_exporter": "python",
      "pygments_lexer": "ipython3",
      "version": "3.6.1"
    }
  },
  "nbformat": 4,
  "nbformat_minor": 0
}